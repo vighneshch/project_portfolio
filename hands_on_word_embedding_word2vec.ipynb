{
  "cells": [
    {
      "cell_type": "code",
      "execution_count": null,
      "metadata": {
        "id": "8etY0WDSDOS_"
      },
      "outputs": [],
      "source": [
        "import sys\n",
        "sys.path.append('/content/drive/MyDrive/colab_env/lib/python3.10/site-packages')\n",
        "!pip install portalocker>=2.0.0"
      ]
    },
    {
      "cell_type": "code",
      "execution_count": 1,
      "metadata": {
        "colab": {
          "base_uri": "https://localhost:8080/"
        },
        "id": "xuq7lftaUMew",
        "outputId": "7eec75c5-f87f-403d-c681-74a54b16dcec"
      },
      "outputs": [
        {
          "output_type": "stream",
          "name": "stdout",
          "text": [
            "Collecting datasets\n",
            "  Downloading datasets-2.18.0-py3-none-any.whl (510 kB)\n",
            "\u001b[2K     \u001b[90m━━━━━━━━━━━━━━━━━━━━━━━━━━━━━━━━━━━━━━━━\u001b[0m \u001b[32m510.5/510.5 kB\u001b[0m \u001b[31m3.9 MB/s\u001b[0m eta \u001b[36m0:00:00\u001b[0m\n",
            "\u001b[?25hRequirement already satisfied: filelock in /usr/local/lib/python3.10/dist-packages (from datasets) (3.13.1)\n",
            "Requirement already satisfied: numpy>=1.17 in /usr/local/lib/python3.10/dist-packages (from datasets) (1.25.2)\n",
            "Requirement already satisfied: pyarrow>=12.0.0 in /usr/local/lib/python3.10/dist-packages (from datasets) (14.0.2)\n",
            "Requirement already satisfied: pyarrow-hotfix in /usr/local/lib/python3.10/dist-packages (from datasets) (0.6)\n",
            "Collecting dill<0.3.9,>=0.3.0 (from datasets)\n",
            "  Downloading dill-0.3.8-py3-none-any.whl (116 kB)\n",
            "\u001b[2K     \u001b[90m━━━━━━━━━━━━━━━━━━━━━━━━━━━━━━━━━━━━━━━━\u001b[0m \u001b[32m116.3/116.3 kB\u001b[0m \u001b[31m11.2 MB/s\u001b[0m eta \u001b[36m0:00:00\u001b[0m\n",
            "\u001b[?25hRequirement already satisfied: pandas in /usr/local/lib/python3.10/dist-packages (from datasets) (1.5.3)\n",
            "Requirement already satisfied: requests>=2.19.0 in /usr/local/lib/python3.10/dist-packages (from datasets) (2.31.0)\n",
            "Requirement already satisfied: tqdm>=4.62.1 in /usr/local/lib/python3.10/dist-packages (from datasets) (4.66.2)\n",
            "Collecting xxhash (from datasets)\n",
            "  Downloading xxhash-3.4.1-cp310-cp310-manylinux_2_17_x86_64.manylinux2014_x86_64.whl (194 kB)\n",
            "\u001b[2K     \u001b[90m━━━━━━━━━━━━━━━━━━━━━━━━━━━━━━━━━━━━━━━━\u001b[0m \u001b[32m194.1/194.1 kB\u001b[0m \u001b[31m18.3 MB/s\u001b[0m eta \u001b[36m0:00:00\u001b[0m\n",
            "\u001b[?25hCollecting multiprocess (from datasets)\n",
            "  Downloading multiprocess-0.70.16-py310-none-any.whl (134 kB)\n",
            "\u001b[2K     \u001b[90m━━━━━━━━━━━━━━━━━━━━━━━━━━━━━━━━━━━━━━━━\u001b[0m \u001b[32m134.8/134.8 kB\u001b[0m \u001b[31m12.0 MB/s\u001b[0m eta \u001b[36m0:00:00\u001b[0m\n",
            "\u001b[?25hRequirement already satisfied: fsspec[http]<=2024.2.0,>=2023.1.0 in /usr/local/lib/python3.10/dist-packages (from datasets) (2023.6.0)\n",
            "Requirement already satisfied: aiohttp in /usr/local/lib/python3.10/dist-packages (from datasets) (3.9.3)\n",
            "Requirement already satisfied: huggingface-hub>=0.19.4 in /usr/local/lib/python3.10/dist-packages (from datasets) (0.20.3)\n",
            "Requirement already satisfied: packaging in /usr/local/lib/python3.10/dist-packages (from datasets) (24.0)\n",
            "Requirement already satisfied: pyyaml>=5.1 in /usr/local/lib/python3.10/dist-packages (from datasets) (6.0.1)\n",
            "Requirement already satisfied: aiosignal>=1.1.2 in /usr/local/lib/python3.10/dist-packages (from aiohttp->datasets) (1.3.1)\n",
            "Requirement already satisfied: attrs>=17.3.0 in /usr/local/lib/python3.10/dist-packages (from aiohttp->datasets) (23.2.0)\n",
            "Requirement already satisfied: frozenlist>=1.1.1 in /usr/local/lib/python3.10/dist-packages (from aiohttp->datasets) (1.4.1)\n",
            "Requirement already satisfied: multidict<7.0,>=4.5 in /usr/local/lib/python3.10/dist-packages (from aiohttp->datasets) (6.0.5)\n",
            "Requirement already satisfied: yarl<2.0,>=1.0 in /usr/local/lib/python3.10/dist-packages (from aiohttp->datasets) (1.9.4)\n",
            "Requirement already satisfied: async-timeout<5.0,>=4.0 in /usr/local/lib/python3.10/dist-packages (from aiohttp->datasets) (4.0.3)\n",
            "Requirement already satisfied: typing-extensions>=3.7.4.3 in /usr/local/lib/python3.10/dist-packages (from huggingface-hub>=0.19.4->datasets) (4.10.0)\n",
            "Requirement already satisfied: charset-normalizer<4,>=2 in /usr/local/lib/python3.10/dist-packages (from requests>=2.19.0->datasets) (3.3.2)\n",
            "Requirement already satisfied: idna<4,>=2.5 in /usr/local/lib/python3.10/dist-packages (from requests>=2.19.0->datasets) (3.6)\n",
            "Requirement already satisfied: urllib3<3,>=1.21.1 in /usr/local/lib/python3.10/dist-packages (from requests>=2.19.0->datasets) (2.0.7)\n",
            "Requirement already satisfied: certifi>=2017.4.17 in /usr/local/lib/python3.10/dist-packages (from requests>=2.19.0->datasets) (2024.2.2)\n",
            "Requirement already satisfied: python-dateutil>=2.8.1 in /usr/local/lib/python3.10/dist-packages (from pandas->datasets) (2.8.2)\n",
            "Requirement already satisfied: pytz>=2020.1 in /usr/local/lib/python3.10/dist-packages (from pandas->datasets) (2023.4)\n",
            "Requirement already satisfied: six>=1.5 in /usr/local/lib/python3.10/dist-packages (from python-dateutil>=2.8.1->pandas->datasets) (1.16.0)\n",
            "Installing collected packages: xxhash, dill, multiprocess, datasets\n",
            "Successfully installed datasets-2.18.0 dill-0.3.8 multiprocess-0.70.16 xxhash-3.4.1\n"
          ]
        }
      ],
      "source": [
        "!pip install datasets"
      ]
    },
    {
      "cell_type": "code",
      "execution_count": null,
      "metadata": {
        "id": "A9K5ocFsAWyE"
      },
      "outputs": [],
      "source": [
        "#Importing the libraires\n",
        "\n",
        "import torch\n",
        "import torch.nn as nn\n",
        "from torch.utils.data import TensorDataset,DataLoader\n",
        "import torch.optim as optim\n",
        "import torchtext\n",
        "from torchtext.data.utils import get_tokenizer\n",
        "from torchtext.vocab import build_vocab_from_iterator\n",
        "from torchtext.data.functional import numericalize_tokens_from_iterator\n",
        "from torchinfo import summary\n",
        "from torchtext.data.functional import to_map_style_dataset,simple_space_split\n",
        "\n",
        "\n",
        "import numpy as np\n",
        "import pandas as pd\n",
        "import seaborn as sns\n",
        "import matplotlib.pyplot as plt\n",
        "import portalocker\n",
        "import regex as re"
      ]
    },
    {
      "cell_type": "code",
      "execution_count": null,
      "metadata": {
        "colab": {
          "base_uri": "https://localhost:8080/",
          "height": 186
        },
        "id": "mqKSplObFVhZ",
        "outputId": "1b9d4a8f-50bf-4732-f793-a698caec6088"
      },
      "outputs": [
        {
          "output_type": "execute_result",
          "data": {
            "text/plain": [
              "<function torchtext.data.utils._basic_english_normalize(line)>"
            ],
            "text/html": [
              "<div style=\"max-width:800px; border: 1px solid var(--colab-border-color);\"><style>\n",
              "      pre.function-repr-contents {\n",
              "        overflow-x: auto;\n",
              "        padding: 8px 12px;\n",
              "        max-height: 500px;\n",
              "      }\n",
              "\n",
              "      pre.function-repr-contents.function-repr-contents-collapsed {\n",
              "        cursor: pointer;\n",
              "        max-height: 100px;\n",
              "      }\n",
              "    </style>\n",
              "    <pre style=\"white-space: initial; background:\n",
              "         var(--colab-secondary-surface-color); padding: 8px 12px;\n",
              "         border-bottom: 1px solid var(--colab-border-color);\"><b>torchtext.data.utils._basic_english_normalize</b><br/>def _basic_english_normalize(line)</pre><pre class=\"function-repr-contents function-repr-contents-collapsed\" style=\"\"><a class=\"filepath\" style=\"display:none\" href=\"#\">/usr/local/lib/python3.10/dist-packages/torchtext/data/utils.py</a>Basic normalization for a line of text.\n",
              "Normalization includes\n",
              "- lowercasing\n",
              "- complete some basic text normalization for English words as follows:\n",
              "    add spaces before and after &#x27;\\&#x27;&#x27;\n",
              "    remove &#x27;\\&quot;&#x27;,\n",
              "    add spaces before and after &#x27;.&#x27;\n",
              "    replace &#x27;&lt;br \\/&gt;&#x27;with single space\n",
              "    add spaces before and after &#x27;,&#x27;\n",
              "    add spaces before and after &#x27;(&#x27;\n",
              "    add spaces before and after &#x27;)&#x27;\n",
              "    add spaces before and after &#x27;!&#x27;\n",
              "    add spaces before and after &#x27;?&#x27;\n",
              "    replace &#x27;;&#x27; with single space\n",
              "    replace &#x27;:&#x27; with single space\n",
              "    replace multiple spaces with single space\n",
              "\n",
              "Returns a list of tokens after splitting on whitespace.</pre>\n",
              "      <script>\n",
              "      if (google.colab.kernel.accessAllowed && google.colab.files && google.colab.files.view) {\n",
              "        for (const element of document.querySelectorAll('.filepath')) {\n",
              "          element.style.display = 'block'\n",
              "          element.onclick = (event) => {\n",
              "            event.preventDefault();\n",
              "            event.stopPropagation();\n",
              "            google.colab.files.view(element.textContent, 24);\n",
              "          };\n",
              "        }\n",
              "      }\n",
              "      for (const element of document.querySelectorAll('.function-repr-contents')) {\n",
              "        element.onclick = (event) => {\n",
              "          event.preventDefault();\n",
              "          event.stopPropagation();\n",
              "          element.classList.toggle('function-repr-contents-collapsed');\n",
              "        };\n",
              "      }\n",
              "      </script>\n",
              "      </div>"
            ]
          },
          "metadata": {},
          "execution_count": 14
        }
      ],
      "source": [
        "tokenizer = get_tokenizer(tokenizer='basic_english')\n",
        "tokenizer"
      ]
    },
    {
      "cell_type": "code",
      "execution_count": null,
      "metadata": {
        "id": "AvSauytqXZql"
      },
      "outputs": [],
      "source": [
        "from datasets import load_dataset\n",
        "dataset = load_dataset('wikitext','wikitext-2-raw-v1',split='train')"
      ]
    },
    {
      "cell_type": "code",
      "execution_count": null,
      "metadata": {
        "id": "RbDUtA9CXpAs"
      },
      "outputs": [],
      "source": [
        "def clean_text(text):\n",
        "  text = str(text).lower()\n",
        "  text = re.sub('[\\{\\}\\.,:;)(=\\'\\\"@]','',text)\n",
        "  text = re.sub('\\n','',text)\n",
        "  text = re.sub('戦場のヴァルキュリア3','',text)\n",
        "  text = re.sub('  ',' ',text)\n",
        "  return str(text)\n",
        "\n",
        "cleaned_dataset = [clean_text(text) for text in dataset['text']]"
      ]
    },
    {
      "cell_type": "code",
      "execution_count": null,
      "metadata": {
        "colab": {
          "base_uri": "https://localhost:8080/"
        },
        "id": "7ed80RKdJm8F",
        "outputId": "a3bf8be1-45c7-4428-935d-785c5f9885a9"
      },
      "outputs": [
        {
          "output_type": "execute_result",
          "data": {
            "text/plain": [
              "8214"
            ]
          },
          "metadata": {},
          "execution_count": 17
        }
      ],
      "source": [
        "#Building Vocab from iterator and dataset\n",
        "\n",
        "vocab = build_vocab_from_iterator(map(tokenizer,cleaned_dataset),specials=['<UNK>','<PAD>'],min_freq = 20)\n",
        "len(vocab)"
      ]
    },
    {
      "cell_type": "code",
      "execution_count": null,
      "metadata": {
        "colab": {
          "base_uri": "https://localhost:8080/"
        },
        "id": "WF7EgvR7R---",
        "outputId": "568682f4-6d87-497f-8fe3-4ea934cf1b77"
      },
      "outputs": [
        {
          "output_type": "execute_result",
          "data": {
            "text/plain": [
              "['<UNK>', '<PAD>', 'the', 'of', 'and', 'in', 'to', 'a', 'was', '-']"
            ]
          },
          "metadata": {},
          "execution_count": 18
        }
      ],
      "source": [
        "#looking at the first few tokesn in the vocab\n",
        "vocab.set_default_index(vocab[\"<UNK>\"])\n",
        "vocab.get_itos()[:10]"
      ]
    },
    {
      "cell_type": "code",
      "source": [
        "token_iterator = simple_space_split(cleaned_dataset)\n",
        "count=0\n",
        "for i in token_iterator:\n",
        "  print(i)\n",
        "  count=count+1\n",
        "  if count==4:\n",
        "    break"
      ],
      "metadata": {
        "colab": {
          "base_uri": "https://localhost:8080/"
        },
        "id": "_3GDIlrMEKKN",
        "outputId": "e5d918ad-4b06-4911-a2ee-601b205118e3"
      },
      "execution_count": null,
      "outputs": [
        {
          "output_type": "stream",
          "name": "stdout",
          "text": [
            "[]\n",
            "['valkyria', 'chronicles', 'iii']\n",
            "[]\n",
            "['senjō', 'no', 'valkyria', '3', 'unrecorded', 'chronicles', 'japanese', 'lit', 'valkyria', 'of', 'the', 'battlefield', '3', 'commonly', 'referred', 'to', 'as', 'valkyria', 'chronicles', 'iii', 'outside', 'japan', 'is', 'a', 'tactical', 'role', '-', 'playing', 'video', 'game', 'developed', 'by', 'sega', 'and', 'mediavision', 'for', 'the', 'playstation', 'portable', 'released', 'in', 'january', '2011', 'in', 'japan', 'it', 'is', 'the', 'third', 'game', 'in', 'the', 'valkyria', 'series', 'employing', 'the', 'same', 'fusion', 'of', 'tactical', 'and', 'real', '-', 'time', 'gameplay', 'as', 'its', 'predecessors', 'the', 'story', 'runs', 'parallel', 'to', 'the', 'first', 'game', 'and', 'follows', 'the', 'nameless', 'a', 'penal', 'military', 'unit', 'serving', 'the', 'nation', 'of', 'gallia', 'during', 'the', 'second', 'europan', 'war', 'who', 'perform', 'secret', 'black', 'operations', 'and', 'are', 'pitted', 'against', 'the', 'imperial', 'unit', 'calamaty', 'raven']\n"
          ]
        }
      ]
    },
    {
      "cell_type": "code",
      "execution_count": null,
      "metadata": {
        "id": "DY7gR2yJrapK"
      },
      "outputs": [],
      "source": [
        "sequence = numericalize_tokens_from_iterator(vocab=vocab,iterator=token_iterator)"
      ]
    },
    {
      "cell_type": "code",
      "source": [
        "len(cleaned_dataset)"
      ],
      "metadata": {
        "colab": {
          "base_uri": "https://localhost:8080/"
        },
        "id": "5mTX6W6ZML4G",
        "outputId": "f1d1fa11-fac7-4ad4-d65d-cf7ce6627305"
      },
      "execution_count": null,
      "outputs": [
        {
          "output_type": "execute_result",
          "data": {
            "text/plain": [
              "36718"
            ]
          },
          "metadata": {},
          "execution_count": 21
        }
      ]
    },
    {
      "cell_type": "code",
      "execution_count": null,
      "metadata": {
        "id": "c6VvLNbpxR-G",
        "colab": {
          "base_uri": "https://localhost:8080/"
        },
        "outputId": "3e3291ba-7bf2-41e2-ad64-eeed622c541b"
      },
      "outputs": [
        {
          "output_type": "execute_result",
          "data": {
            "text/plain": [
              "36714"
            ]
          },
          "metadata": {},
          "execution_count": 22
        }
      ],
      "source": [
        "sequence_list = [[num for num in id]for id in sequence]\n",
        "len(sequence_list)"
      ]
    },
    {
      "cell_type": "code",
      "execution_count": null,
      "metadata": {
        "id": "oHah-hXYeR7y"
      },
      "outputs": [],
      "source": [
        "def generate_cbow_data_context(sequence_list, context_size):\n",
        "    for sequence in sequence_list:\n",
        "        for j in range(context_size, len(sequence) - context_size):\n",
        "            context = sequence[j - context_size: j] + sequence[j + 1: j + context_size + 1]\n",
        "            yield context\n",
        "\n",
        "context_generator = generate_cbow_data_context(sequence_list, 2)\n",
        "\n",
        "def generate_cbow_data_target(sequence_list, context_size):\n",
        "    for sequence in sequence_list:\n",
        "        for j in range(context_size, len(sequence) - context_size):\n",
        "            target = sequence[j]\n",
        "            yield target\n",
        "target_generator = generate_cbow_data_target(sequence_list,2)\n"
      ]
    },
    {
      "cell_type": "code",
      "execution_count": null,
      "metadata": {
        "id": "XJqGL0ugA-XV"
      },
      "outputs": [],
      "source": [
        "context = next(iter(context_generator))\n",
        "target = next(iter(target_generator))"
      ]
    },
    {
      "cell_type": "code",
      "execution_count": null,
      "metadata": {
        "colab": {
          "base_uri": "https://localhost:8080/"
        },
        "id": "kMgRWBjtCvKz",
        "outputId": "604945c3-774c-4095-cedc-827dd11c5375"
      },
      "outputs": [
        {
          "output_type": "execute_result",
          "data": {
            "text/plain": [
              "([2, 61, 362, 5], 130)"
            ]
          },
          "metadata": {},
          "execution_count": 25
        }
      ],
      "source": [
        "context,target"
      ]
    },
    {
      "cell_type": "code",
      "execution_count": null,
      "metadata": {
        "id": "CnSZZ1vNERbL"
      },
      "outputs": [],
      "source": [
        "context_tensors = torch.tensor(list(context_generator))\n",
        "target_tensors = torch.tensor(list(target_generator))"
      ]
    },
    {
      "cell_type": "code",
      "execution_count": null,
      "metadata": {
        "id": "0XniCMTqFiFh"
      },
      "outputs": [],
      "source": [
        "#Making Tensor Dataset\n",
        "train_dataset = TensorDataset(context_tensors, target_tensors)"
      ]
    },
    {
      "cell_type": "code",
      "execution_count": null,
      "metadata": {
        "id": "6dpUNvptF6JU"
      },
      "outputs": [],
      "source": [
        "train_dataloader = DataLoader(train_dataset,shuffle=False,batch_size=500)"
      ]
    },
    {
      "cell_type": "code",
      "execution_count": null,
      "metadata": {
        "colab": {
          "base_uri": "https://localhost:8080/"
        },
        "id": "PsN7YpcwI3sy",
        "outputId": "a1ee96d1-2bda-4c8e-e904-0d8e479b62b2"
      },
      "outputs": [
        {
          "output_type": "execute_result",
          "data": {
            "text/plain": [
              "(torch.Size([500, 4]), torch.Size([500]))"
            ]
          },
          "metadata": {},
          "execution_count": 29
        }
      ],
      "source": [
        "feature,target = next(iter(train_dataloader))\n",
        "feature.shape,target.shape"
      ]
    },
    {
      "cell_type": "code",
      "execution_count": null,
      "metadata": {
        "id": "wEjvGsC_cXn_"
      },
      "outputs": [],
      "source": [
        "#Model Building\n",
        "\n",
        "class WordEmbeddings(nn.Module):\n",
        "  def __init__(self):\n",
        "    super().__init__()\n",
        "\n",
        "    self.embeddings = nn.Embedding(num_embeddings = len(vocab),\n",
        "                                   embedding_dim = 300)\n",
        "    self.linear_1 = nn.Linear(in_features = 300,\n",
        "                            out_features = len(vocab))\n",
        "\n",
        "  def forward(self,x):\n",
        "    x = self.embeddings(x)\n",
        "    x = x.mean(axis=1)\n",
        "    x = self.linear_1(x)\n",
        "    return x"
      ]
    },
    {
      "cell_type": "code",
      "execution_count": null,
      "metadata": {
        "id": "qVuVBapCjSRx"
      },
      "outputs": [],
      "source": [
        "#Model Instantiation\n",
        "\n",
        "model = WordEmbeddings()\n",
        "optimizer = optim.SGD(model.parameters(),lr = 0.01,momentum=0.95)\n",
        "loss_fn = nn.CrossEntropyLoss()"
      ]
    },
    {
      "cell_type": "code",
      "execution_count": null,
      "metadata": {
        "colab": {
          "base_uri": "https://localhost:8080/"
        },
        "id": "L83AkD2UhQ5s",
        "outputId": "32990779-ccba-487a-9979-237b40c99f4c"
      },
      "outputs": [
        {
          "output_type": "execute_result",
          "data": {
            "text/plain": [
              "=================================================================\n",
              "Layer (type:depth-idx)                   Param #\n",
              "=================================================================\n",
              "WordEmbeddings                           --\n",
              "├─Embedding: 1-1                         2,465,100\n",
              "├─Linear: 1-2                            2,473,317\n",
              "=================================================================\n",
              "Total params: 4,938,417\n",
              "Trainable params: 4,938,417\n",
              "Non-trainable params: 0\n",
              "================================================================="
            ]
          },
          "metadata": {},
          "execution_count": 222
        }
      ],
      "source": [
        "summary(model)"
      ]
    },
    {
      "cell_type": "code",
      "execution_count": null,
      "metadata": {
        "colab": {
          "base_uri": "https://localhost:8080/",
          "height": 36
        },
        "id": "-bZGjJmRpJcD",
        "outputId": "d42f3732-8763-47b9-d668-85360d072f9f"
      },
      "outputs": [
        {
          "output_type": "execute_result",
          "data": {
            "text/plain": [
              "'cpu'"
            ],
            "application/vnd.google.colaboratory.intrinsic+json": {
              "type": "string"
            }
          },
          "metadata": {},
          "execution_count": 223
        }
      ],
      "source": [
        "#device agnostic code\n",
        "\n",
        "device = 'cuda' if torch.cuda.is_available() else 'cpu'\n",
        "device"
      ]
    },
    {
      "cell_type": "code",
      "execution_count": null,
      "metadata": {
        "colab": {
          "base_uri": "https://localhost:8080/",
          "height": 49,
          "referenced_widgets": [
            "7eb26c9fd1a04955b486166933834d5d",
            "87474b0742674fda8b653e2dd94c243c",
            "ab61ca07272a431aad0a68be3c0788ec",
            "f45733dcbdcc43adb7270f490925b257",
            "e738f5cb619f40a28be0f281f9dac7d2",
            "8e304eec931545aba4c134d9d9044221",
            "c63e57128ef64f868654d73359183734",
            "d02887765aee4e51bd46e9ec66ed2a8b",
            "81fc1b06f5794ccd847a5d4125bd62d3",
            "9fb493ce254940378656cbfb5cdf251a",
            "c685daa8d6b04c33bf171758b7caef88"
          ]
        },
        "id": "Mu7iJg0_jaVV",
        "outputId": "693fab96-8191-4c13-e207-f62a361bbe89"
      },
      "outputs": [
        {
          "data": {
            "application/vnd.jupyter.widget-view+json": {
              "model_id": "7eb26c9fd1a04955b486166933834d5d",
              "version_major": 2,
              "version_minor": 0
            },
            "text/plain": [
              "  0%|          | 0/11 [00:00<?, ?it/s]"
            ]
          },
          "metadata": {},
          "output_type": "display_data"
        }
      ],
      "source": [
        "#Training loop\n",
        "from tqdm.auto import tqdm\n",
        "\n",
        "training_loss = []\n",
        "for epoch in tqdm(range(11)):\n",
        "  train_loss = 0\n",
        "  model.train()\n",
        "  for feature,label in train_dataloader:\n",
        "    model = model.to(device)\n",
        "    feature = feature.to(device)\n",
        "    label = label.to(device)\n",
        "\n",
        "    y_train_pred = model(feature)\n",
        "\n",
        "    loss = loss_fn(y_train_pred,label)\n",
        "    train_loss = train_loss + loss\n",
        "\n",
        "    optimizer.zero_grad()\n",
        "\n",
        "    loss.backward()\n",
        "\n",
        "    optimizer.step()\n",
        "  train_loss = train_loss/len(train_dataloader)\n",
        "  training_loss.append(train_loss)\n",
        "  print(f\"Epoch:{epoch} | Training Loss : {train_loss}\")"
      ]
    },
    {
      "cell_type": "code",
      "execution_count": null,
      "metadata": {
        "id": "vvrhGj6XmKLa"
      },
      "outputs": [],
      "source": [
        "embedding_matrix = model.embeddings.state_dict()['weight']"
      ]
    },
    {
      "cell_type": "code",
      "execution_count": null,
      "metadata": {
        "id": "QXjqvRN0s8PW"
      },
      "outputs": [],
      "source": [
        "vocab.get_stoi()['man']"
      ]
    },
    {
      "cell_type": "code",
      "execution_count": null,
      "metadata": {
        "id": "fYbtU9_8tVpL"
      },
      "outputs": [],
      "source": [
        "vocab.get_stoi()['king']"
      ]
    },
    {
      "cell_type": "code",
      "execution_count": null,
      "metadata": {
        "id": "0B_hVeGWtfNT"
      },
      "outputs": [],
      "source": [
        "vocab.get_stoi()['woman']"
      ]
    },
    {
      "cell_type": "code",
      "execution_count": null,
      "metadata": {
        "id": "JNA2fBzMt0Xc"
      },
      "outputs": [],
      "source": [
        "vocab.get_stoi()['black']"
      ]
    },
    {
      "cell_type": "code",
      "execution_count": null,
      "metadata": {
        "id": "noNDxENZtiWY"
      },
      "outputs": [],
      "source": [
        "man_matrix = embedding_matrix[238].cpu().detach().numpy()\n",
        "king_matrix = embedding_matrix[286].cpu().detach().numpy()\n",
        "woman_matrix = embedding_matrix[862].cpu().detach().numpy()\n",
        "queen_matrix = embedding_matrix[1095].cpu().detach().numpy()\n",
        "fruit_matrix = embedding_matrix[1558].cpu().detach().numpy()\n",
        "orange_matrix = embedding_matrix[4999].cpu().detach().numpy()\n",
        "green_matrix = embedding_matrix[1209].cpu().detach().numpy()\n",
        "red_matrix = embedding_matrix[425].cpu().detach().numpy()\n",
        "black_matrix = embedding_matrix[285].cpu().detach().numpy()"
      ]
    },
    {
      "cell_type": "code",
      "execution_count": null,
      "metadata": {
        "id": "nXsy-N2Ft87m"
      },
      "outputs": [],
      "source": [
        "from sklearn.decomposition import PCA\n",
        "\n",
        "model_ml = PCA(n_components = 2)"
      ]
    },
    {
      "cell_type": "code",
      "execution_count": null,
      "metadata": {
        "id": "JzwzlF_GyUhs"
      },
      "outputs": [],
      "source": [
        "df = pd.DataFrame([man_matrix,king_matrix,woman_matrix,queen_matrix,fruit_matrix,orange_matrix,green_matrix,red_matrix,black_matrix])"
      ]
    },
    {
      "cell_type": "code",
      "execution_count": null,
      "metadata": {
        "id": "bfvtHVklyeTk"
      },
      "outputs": [],
      "source": [
        "df.head()"
      ]
    },
    {
      "cell_type": "code",
      "execution_count": null,
      "metadata": {
        "id": "6e2aG2YvyfTy"
      },
      "outputs": [],
      "source": [
        "df_reduced = model_ml.fit_transform(df)\n",
        "df_reduced = pd.DataFrame(df_reduced)\n",
        "\n",
        "df_reduced['label'] = ['man','king','woman','queen','fruit','orange','green','red','black']\n",
        "df_reduced.head()"
      ]
    },
    {
      "cell_type": "code",
      "execution_count": null,
      "metadata": {
        "id": "nLB57BXHzzZH"
      },
      "outputs": [],
      "source": [
        "sns.scatterplot(data=df_reduced,x=0,y=1)\n",
        "for i in range(len(df_reduced)):\n",
        "    plt.annotate(df_reduced['label'][i], (df_reduced.iloc[i, 0], df_reduced.iloc[i, 1]))\n",
        "plt.show()"
      ]
    },
    {
      "cell_type": "code",
      "execution_count": null,
      "metadata": {
        "id": "oqAyYKDO0B3E"
      },
      "outputs": [],
      "source": []
    }
  ],
  "metadata": {
    "accelerator": "GPU",
    "colab": {
      "gpuType": "T4",
      "provenance": []
    },
    "kernelspec": {
      "display_name": "Python 3",
      "name": "python3"
    },
    "language_info": {
      "name": "python"
    },
    "widgets": {
      "application/vnd.jupyter.widget-state+json": {
        "7eb26c9fd1a04955b486166933834d5d": {
          "model_module": "@jupyter-widgets/controls",
          "model_name": "HBoxModel",
          "model_module_version": "1.5.0",
          "state": {
            "_dom_classes": [],
            "_model_module": "@jupyter-widgets/controls",
            "_model_module_version": "1.5.0",
            "_model_name": "HBoxModel",
            "_view_count": null,
            "_view_module": "@jupyter-widgets/controls",
            "_view_module_version": "1.5.0",
            "_view_name": "HBoxView",
            "box_style": "",
            "children": [
              "IPY_MODEL_87474b0742674fda8b653e2dd94c243c",
              "IPY_MODEL_ab61ca07272a431aad0a68be3c0788ec",
              "IPY_MODEL_f45733dcbdcc43adb7270f490925b257"
            ],
            "layout": "IPY_MODEL_e738f5cb619f40a28be0f281f9dac7d2"
          }
        },
        "87474b0742674fda8b653e2dd94c243c": {
          "model_module": "@jupyter-widgets/controls",
          "model_name": "HTMLModel",
          "model_module_version": "1.5.0",
          "state": {
            "_dom_classes": [],
            "_model_module": "@jupyter-widgets/controls",
            "_model_module_version": "1.5.0",
            "_model_name": "HTMLModel",
            "_view_count": null,
            "_view_module": "@jupyter-widgets/controls",
            "_view_module_version": "1.5.0",
            "_view_name": "HTMLView",
            "description": "",
            "description_tooltip": null,
            "layout": "IPY_MODEL_8e304eec931545aba4c134d9d9044221",
            "placeholder": "​",
            "style": "IPY_MODEL_c63e57128ef64f868654d73359183734",
            "value": "  0%"
          }
        },
        "ab61ca07272a431aad0a68be3c0788ec": {
          "model_module": "@jupyter-widgets/controls",
          "model_name": "FloatProgressModel",
          "model_module_version": "1.5.0",
          "state": {
            "_dom_classes": [],
            "_model_module": "@jupyter-widgets/controls",
            "_model_module_version": "1.5.0",
            "_model_name": "FloatProgressModel",
            "_view_count": null,
            "_view_module": "@jupyter-widgets/controls",
            "_view_module_version": "1.5.0",
            "_view_name": "ProgressView",
            "bar_style": "",
            "description": "",
            "description_tooltip": null,
            "layout": "IPY_MODEL_d02887765aee4e51bd46e9ec66ed2a8b",
            "max": 11,
            "min": 0,
            "orientation": "horizontal",
            "style": "IPY_MODEL_81fc1b06f5794ccd847a5d4125bd62d3",
            "value": 0
          }
        },
        "f45733dcbdcc43adb7270f490925b257": {
          "model_module": "@jupyter-widgets/controls",
          "model_name": "HTMLModel",
          "model_module_version": "1.5.0",
          "state": {
            "_dom_classes": [],
            "_model_module": "@jupyter-widgets/controls",
            "_model_module_version": "1.5.0",
            "_model_name": "HTMLModel",
            "_view_count": null,
            "_view_module": "@jupyter-widgets/controls",
            "_view_module_version": "1.5.0",
            "_view_name": "HTMLView",
            "description": "",
            "description_tooltip": null,
            "layout": "IPY_MODEL_9fb493ce254940378656cbfb5cdf251a",
            "placeholder": "​",
            "style": "IPY_MODEL_c685daa8d6b04c33bf171758b7caef88",
            "value": " 0/11 [00:00&lt;?, ?it/s]"
          }
        },
        "e738f5cb619f40a28be0f281f9dac7d2": {
          "model_module": "@jupyter-widgets/base",
          "model_name": "LayoutModel",
          "model_module_version": "1.2.0",
          "state": {
            "_model_module": "@jupyter-widgets/base",
            "_model_module_version": "1.2.0",
            "_model_name": "LayoutModel",
            "_view_count": null,
            "_view_module": "@jupyter-widgets/base",
            "_view_module_version": "1.2.0",
            "_view_name": "LayoutView",
            "align_content": null,
            "align_items": null,
            "align_self": null,
            "border": null,
            "bottom": null,
            "display": null,
            "flex": null,
            "flex_flow": null,
            "grid_area": null,
            "grid_auto_columns": null,
            "grid_auto_flow": null,
            "grid_auto_rows": null,
            "grid_column": null,
            "grid_gap": null,
            "grid_row": null,
            "grid_template_areas": null,
            "grid_template_columns": null,
            "grid_template_rows": null,
            "height": null,
            "justify_content": null,
            "justify_items": null,
            "left": null,
            "margin": null,
            "max_height": null,
            "max_width": null,
            "min_height": null,
            "min_width": null,
            "object_fit": null,
            "object_position": null,
            "order": null,
            "overflow": null,
            "overflow_x": null,
            "overflow_y": null,
            "padding": null,
            "right": null,
            "top": null,
            "visibility": null,
            "width": null
          }
        },
        "8e304eec931545aba4c134d9d9044221": {
          "model_module": "@jupyter-widgets/base",
          "model_name": "LayoutModel",
          "model_module_version": "1.2.0",
          "state": {
            "_model_module": "@jupyter-widgets/base",
            "_model_module_version": "1.2.0",
            "_model_name": "LayoutModel",
            "_view_count": null,
            "_view_module": "@jupyter-widgets/base",
            "_view_module_version": "1.2.0",
            "_view_name": "LayoutView",
            "align_content": null,
            "align_items": null,
            "align_self": null,
            "border": null,
            "bottom": null,
            "display": null,
            "flex": null,
            "flex_flow": null,
            "grid_area": null,
            "grid_auto_columns": null,
            "grid_auto_flow": null,
            "grid_auto_rows": null,
            "grid_column": null,
            "grid_gap": null,
            "grid_row": null,
            "grid_template_areas": null,
            "grid_template_columns": null,
            "grid_template_rows": null,
            "height": null,
            "justify_content": null,
            "justify_items": null,
            "left": null,
            "margin": null,
            "max_height": null,
            "max_width": null,
            "min_height": null,
            "min_width": null,
            "object_fit": null,
            "object_position": null,
            "order": null,
            "overflow": null,
            "overflow_x": null,
            "overflow_y": null,
            "padding": null,
            "right": null,
            "top": null,
            "visibility": null,
            "width": null
          }
        },
        "c63e57128ef64f868654d73359183734": {
          "model_module": "@jupyter-widgets/controls",
          "model_name": "DescriptionStyleModel",
          "model_module_version": "1.5.0",
          "state": {
            "_model_module": "@jupyter-widgets/controls",
            "_model_module_version": "1.5.0",
            "_model_name": "DescriptionStyleModel",
            "_view_count": null,
            "_view_module": "@jupyter-widgets/base",
            "_view_module_version": "1.2.0",
            "_view_name": "StyleView",
            "description_width": ""
          }
        },
        "d02887765aee4e51bd46e9ec66ed2a8b": {
          "model_module": "@jupyter-widgets/base",
          "model_name": "LayoutModel",
          "model_module_version": "1.2.0",
          "state": {
            "_model_module": "@jupyter-widgets/base",
            "_model_module_version": "1.2.0",
            "_model_name": "LayoutModel",
            "_view_count": null,
            "_view_module": "@jupyter-widgets/base",
            "_view_module_version": "1.2.0",
            "_view_name": "LayoutView",
            "align_content": null,
            "align_items": null,
            "align_self": null,
            "border": null,
            "bottom": null,
            "display": null,
            "flex": null,
            "flex_flow": null,
            "grid_area": null,
            "grid_auto_columns": null,
            "grid_auto_flow": null,
            "grid_auto_rows": null,
            "grid_column": null,
            "grid_gap": null,
            "grid_row": null,
            "grid_template_areas": null,
            "grid_template_columns": null,
            "grid_template_rows": null,
            "height": null,
            "justify_content": null,
            "justify_items": null,
            "left": null,
            "margin": null,
            "max_height": null,
            "max_width": null,
            "min_height": null,
            "min_width": null,
            "object_fit": null,
            "object_position": null,
            "order": null,
            "overflow": null,
            "overflow_x": null,
            "overflow_y": null,
            "padding": null,
            "right": null,
            "top": null,
            "visibility": null,
            "width": null
          }
        },
        "81fc1b06f5794ccd847a5d4125bd62d3": {
          "model_module": "@jupyter-widgets/controls",
          "model_name": "ProgressStyleModel",
          "model_module_version": "1.5.0",
          "state": {
            "_model_module": "@jupyter-widgets/controls",
            "_model_module_version": "1.5.0",
            "_model_name": "ProgressStyleModel",
            "_view_count": null,
            "_view_module": "@jupyter-widgets/base",
            "_view_module_version": "1.2.0",
            "_view_name": "StyleView",
            "bar_color": null,
            "description_width": ""
          }
        },
        "9fb493ce254940378656cbfb5cdf251a": {
          "model_module": "@jupyter-widgets/base",
          "model_name": "LayoutModel",
          "model_module_version": "1.2.0",
          "state": {
            "_model_module": "@jupyter-widgets/base",
            "_model_module_version": "1.2.0",
            "_model_name": "LayoutModel",
            "_view_count": null,
            "_view_module": "@jupyter-widgets/base",
            "_view_module_version": "1.2.0",
            "_view_name": "LayoutView",
            "align_content": null,
            "align_items": null,
            "align_self": null,
            "border": null,
            "bottom": null,
            "display": null,
            "flex": null,
            "flex_flow": null,
            "grid_area": null,
            "grid_auto_columns": null,
            "grid_auto_flow": null,
            "grid_auto_rows": null,
            "grid_column": null,
            "grid_gap": null,
            "grid_row": null,
            "grid_template_areas": null,
            "grid_template_columns": null,
            "grid_template_rows": null,
            "height": null,
            "justify_content": null,
            "justify_items": null,
            "left": null,
            "margin": null,
            "max_height": null,
            "max_width": null,
            "min_height": null,
            "min_width": null,
            "object_fit": null,
            "object_position": null,
            "order": null,
            "overflow": null,
            "overflow_x": null,
            "overflow_y": null,
            "padding": null,
            "right": null,
            "top": null,
            "visibility": null,
            "width": null
          }
        },
        "c685daa8d6b04c33bf171758b7caef88": {
          "model_module": "@jupyter-widgets/controls",
          "model_name": "DescriptionStyleModel",
          "model_module_version": "1.5.0",
          "state": {
            "_model_module": "@jupyter-widgets/controls",
            "_model_module_version": "1.5.0",
            "_model_name": "DescriptionStyleModel",
            "_view_count": null,
            "_view_module": "@jupyter-widgets/base",
            "_view_module_version": "1.2.0",
            "_view_name": "StyleView",
            "description_width": ""
          }
        }
      }
    }
  },
  "nbformat": 4,
  "nbformat_minor": 0
}